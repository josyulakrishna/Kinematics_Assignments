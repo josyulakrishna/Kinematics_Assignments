{
 "cells": [
  {
   "cell_type": "code",
   "execution_count": 1,
   "id": "3b5414fe",
   "metadata": {},
   "outputs": [],
   "source": [
    "from scipy.integrate import solve_ivp\n",
    "import numpy as np"
   ]
  },
  {
   "cell_type": "code",
   "execution_count": 16,
   "id": "2954aa90",
   "metadata": {},
   "outputs": [],
   "source": [
    "def ddTh_dT(t, Y, Y1, Y2, Y3, Y4):\n",
    "    #pass the current values as the initial values of theta, compute torque from PID\n",
    "    m2 = 2\n",
    "    m1 = 3\n",
    "    I1 = 2\n",
    "    I2 = 1\n",
    "    L1 = 1\n",
    "    g = 9.8\n",
    "    r1 = 0.5\n",
    "    r2 = 0.5\n",
    "   \n",
    "\n",
    "    u = Y[0] #u = dtheta1_dt \n",
    "    v = Y[1] #v = dtheta2_dt \n",
    "    th1 = Y1 #theta1\n",
    "    th2 = Y2 #theta2\n",
    "    tau1 = Y3 #Torque1\n",
    "    tau2 = Y4 #Torque2\n",
    "\n",
    "    k1 = 1.*L1**2*m2 + 1.*m1*r1**2 + 1.*m2*r2**2 +  2.*L1*m2*r2*np.cos(th2)\n",
    "    k2 = 1.*m2*r2**2 +  1.*L1*m2*r2*np.cos(th2)\n",
    "    k3 = 2.*L1*m2*r2*np.sin(th2)\n",
    "    k4 = 1.*L1*m2*r2*np.sin(th2)\n",
    "    k5 = 1.*m2*r2**2 + 1.*L1*m2*r2*np.cos(th2)\n",
    "    k6 = 1.*m2*r2**2\n",
    "    k7 = 1.*L1*m2*r2*np.sin(th2)\n",
    "\n",
    "    du_dt = -((-(k2*k7*u*v)-k2*tau2 + k3*k6*u*v + k4*k6*v**2 + k6*tau1)/(k2*k5 - k1*k6))\n",
    "    dv_dt = -((-(k1*k7*u*v) - k1*tau2 + k3*k5*u*v + k4*k5*v**2 + k5*tau1)/(k1*k6 - k2*k5))\n",
    "#     return [du_dt, dv_dt, 0, 0, 0, 0]\n",
    "    return [du_dt, dv_dt]"
   ]
  },
  {
   "cell_type": "code",
   "execution_count": 17,
   "id": "c89bd354",
   "metadata": {},
   "outputs": [
    {
     "data": {
      "text/plain": [
       "  message: 'The solver successfully reached the end of the integration interval.'\n",
       "     nfev: 26\n",
       "     njev: 0\n",
       "      nlu: 0\n",
       "      sol: None\n",
       "   status: 0\n",
       "  success: True\n",
       "        t: array([0.00000000e+00, 9.98728322e-04, 1.09860115e-02, 1.10858844e-01,\n",
       "       1.00000000e+00])\n",
       " t_events: None\n",
       "        y: array([[-7.85398163e-01, -7.85664491e-01, -7.88327766e-01,\n",
       "        -8.14960522e-01, -1.05206483e+00],\n",
       "       [ 0.00000000e+00,  9.98728322e-04,  1.09860115e-02,\n",
       "         1.10858844e-01,  1.00000000e+00]])\n",
       " y_events: None"
      ]
     },
     "execution_count": 17,
     "metadata": {},
     "output_type": "execute_result"
    }
   ],
   "source": [
    "solve_ivp(ddTh_dT, [0,1],[-np.pi/4.,0],args= (0, 0, 0.1, 0.1))"
   ]
  },
  {
   "cell_type": "code",
   "execution_count": null,
   "id": "1dbcf8f0",
   "metadata": {},
   "outputs": [],
   "source": []
  }
 ],
 "metadata": {
  "kernelspec": {
   "display_name": "Python 3 (ipykernel)",
   "language": "python",
   "name": "python3"
  },
  "language_info": {
   "codemirror_mode": {
    "name": "ipython",
    "version": 3
   },
   "file_extension": ".py",
   "mimetype": "text/x-python",
   "name": "python",
   "nbconvert_exporter": "python",
   "pygments_lexer": "ipython3",
   "version": "3.9.5"
  }
 },
 "nbformat": 4,
 "nbformat_minor": 5
}
