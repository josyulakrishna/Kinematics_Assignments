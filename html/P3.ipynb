{
 "cells": [
  {
   "cell_type": "code",
   "execution_count": 1,
   "id": "aed75d91",
   "metadata": {},
   "outputs": [],
   "source": [
    "import sympy"
   ]
  },
  {
   "cell_type": "code",
   "execution_count": 2,
   "id": "ad8c058b",
   "metadata": {},
   "outputs": [],
   "source": [
    "from sympy import *"
   ]
  },
  {
   "cell_type": "code",
   "execution_count": 3,
   "id": "74d66a3e",
   "metadata": {},
   "outputs": [],
   "source": [
    "L1 = Symbol('L1')\n",
    "L2 = Symbol('L2')\n",
    "t = Symbol('t')\n",
    "t1 = Function('t1')(t)\n",
    "t2 = Function('t2')(t)\n",
    "v1 = Matrix([0,L1,0])"
   ]
  },
  {
   "cell_type": "code",
   "execution_count": 4,
   "id": "6e0be8db",
   "metadata": {},
   "outputs": [],
   "source": [
    "R1 = sympy.rot_axis3(-1*t2)\n",
    "w1 = Matrix([0,0,1])"
   ]
  },
  {
   "cell_type": "code",
   "execution_count": 5,
   "id": "beb36dc9",
   "metadata": {},
   "outputs": [],
   "source": [
    "w1b = Matrix([0, sin(t2), cos(t2)])"
   ]
  },
  {
   "cell_type": "code",
   "execution_count": 6,
   "id": "e14cf82f",
   "metadata": {},
   "outputs": [],
   "source": [
    "w2b = Matrix([1,0,0])\n",
    "q2 = Matrix([-L1,0,L2])"
   ]
  },
  {
   "cell_type": "code",
   "execution_count": 7,
   "id": "a1e10b46",
   "metadata": {},
   "outputs": [],
   "source": [
    "v1b = -1*w1b.cross( q2)"
   ]
  },
  {
   "cell_type": "code",
   "execution_count": 8,
   "id": "11440ecc",
   "metadata": {},
   "outputs": [
    {
     "data": {
      "text/latex": [
       "$\\displaystyle \\left[\\begin{matrix}- L_{2} \\sin{\\left(\\operatorname{t_{2}}{\\left(t \\right)} \\right)}\\\\L_{1} \\cos{\\left(\\operatorname{t_{2}}{\\left(t \\right)} \\right)}\\\\- L_{1} \\sin{\\left(\\operatorname{t_{2}}{\\left(t \\right)} \\right)}\\end{matrix}\\right]$"
      ],
      "text/plain": [
       "Matrix([\n",
       "[-L2*sin(t2(t))],\n",
       "[ L1*cos(t2(t))],\n",
       "[-L1*sin(t2(t))]])"
      ]
     },
     "execution_count": 8,
     "metadata": {},
     "output_type": "execute_result"
    }
   ],
   "source": [
    "v1b"
   ]
  },
  {
   "cell_type": "code",
   "execution_count": 9,
   "id": "304f8d89",
   "metadata": {},
   "outputs": [],
   "source": [
    "Jb1 = Matrix([0,0,1,0,L1,0])"
   ]
  },
  {
   "cell_type": "code",
   "execution_count": 10,
   "id": "a9a06242",
   "metadata": {},
   "outputs": [],
   "source": [
    "Vb1 = Jb1.T*t1.diff(t)"
   ]
  },
  {
   "cell_type": "code",
   "execution_count": 11,
   "id": "a5ee0e1f",
   "metadata": {},
   "outputs": [
    {
     "data": {
      "text/latex": [
       "$\\displaystyle \\left[\\begin{matrix}0 & 0 & \\frac{d}{d t} \\operatorname{t_{1}}{\\left(t \\right)} & 0 & L_{1} \\frac{d}{d t} \\operatorname{t_{1}}{\\left(t \\right)} & 0\\end{matrix}\\right]$"
      ],
      "text/plain": [
       "Matrix([[0, 0, Derivative(t1(t), t), 0, L1*Derivative(t1(t), t), 0]])"
      ]
     },
     "execution_count": 11,
     "metadata": {},
     "output_type": "execute_result"
    }
   ],
   "source": [
    "Vb1"
   ]
  },
  {
   "cell_type": "code",
   "execution_count": 12,
   "id": "e1a6772f",
   "metadata": {},
   "outputs": [],
   "source": [
    "v2b = Matrix([0,L2,0])"
   ]
  },
  {
   "cell_type": "code",
   "execution_count": 13,
   "id": "59932a45",
   "metadata": {},
   "outputs": [],
   "source": [
    "Jb2 = Matrix.hstack(Matrix.vstack(w1b,v1b), Matrix.vstack(w2b,v2b))"
   ]
  },
  {
   "cell_type": "code",
   "execution_count": 14,
   "id": "5d3d5336",
   "metadata": {},
   "outputs": [
    {
     "data": {
      "text/latex": [
       "$\\displaystyle \\left[\\begin{matrix}0 & 1\\\\\\sin{\\left(\\operatorname{t_{2}}{\\left(t \\right)} \\right)} & 0\\\\\\cos{\\left(\\operatorname{t_{2}}{\\left(t \\right)} \\right)} & 0\\\\- L_{2} \\sin{\\left(\\operatorname{t_{2}}{\\left(t \\right)} \\right)} & 0\\\\L_{1} \\cos{\\left(\\operatorname{t_{2}}{\\left(t \\right)} \\right)} & L_{2}\\\\- L_{1} \\sin{\\left(\\operatorname{t_{2}}{\\left(t \\right)} \\right)} & 0\\end{matrix}\\right]$"
      ],
      "text/plain": [
       "Matrix([\n",
       "[             0,  1],\n",
       "[    sin(t2(t)),  0],\n",
       "[    cos(t2(t)),  0],\n",
       "[-L2*sin(t2(t)),  0],\n",
       "[ L1*cos(t2(t)), L2],\n",
       "[-L1*sin(t2(t)),  0]])"
      ]
     },
     "execution_count": 14,
     "metadata": {},
     "output_type": "execute_result"
    }
   ],
   "source": [
    "Jb2"
   ]
  },
  {
   "cell_type": "code",
   "execution_count": 15,
   "id": "294ab296",
   "metadata": {},
   "outputs": [],
   "source": [
    "Vb2 = Jb2*Matrix([t1.diff(t), t2.diff(t)])"
   ]
  },
  {
   "cell_type": "code",
   "execution_count": 16,
   "id": "991f0d87",
   "metadata": {},
   "outputs": [
    {
     "data": {
      "text/latex": [
       "$\\displaystyle \\left[\\begin{matrix}\\frac{d}{d t} \\operatorname{t_{2}}{\\left(t \\right)}\\\\\\sin{\\left(\\operatorname{t_{2}}{\\left(t \\right)} \\right)} \\frac{d}{d t} \\operatorname{t_{1}}{\\left(t \\right)}\\\\\\cos{\\left(\\operatorname{t_{2}}{\\left(t \\right)} \\right)} \\frac{d}{d t} \\operatorname{t_{1}}{\\left(t \\right)}\\\\- L_{2} \\sin{\\left(\\operatorname{t_{2}}{\\left(t \\right)} \\right)} \\frac{d}{d t} \\operatorname{t_{1}}{\\left(t \\right)}\\\\L_{1} \\cos{\\left(\\operatorname{t_{2}}{\\left(t \\right)} \\right)} \\frac{d}{d t} \\operatorname{t_{1}}{\\left(t \\right)} + L_{2} \\frac{d}{d t} \\operatorname{t_{2}}{\\left(t \\right)}\\\\- L_{1} \\sin{\\left(\\operatorname{t_{2}}{\\left(t \\right)} \\right)} \\frac{d}{d t} \\operatorname{t_{1}}{\\left(t \\right)}\\end{matrix}\\right]$"
      ],
      "text/plain": [
       "Matrix([\n",
       "[                                        Derivative(t2(t), t)],\n",
       "[                             sin(t2(t))*Derivative(t1(t), t)],\n",
       "[                             cos(t2(t))*Derivative(t1(t), t)],\n",
       "[                         -L2*sin(t2(t))*Derivative(t1(t), t)],\n",
       "[L1*cos(t2(t))*Derivative(t1(t), t) + L2*Derivative(t2(t), t)],\n",
       "[                         -L1*sin(t2(t))*Derivative(t1(t), t)]])"
      ]
     },
     "execution_count": 16,
     "metadata": {},
     "output_type": "execute_result"
    }
   ],
   "source": [
    "Vb2"
   ]
  },
  {
   "cell_type": "code",
   "execution_count": 17,
   "id": "973a8a4e",
   "metadata": {},
   "outputs": [
    {
     "data": {
      "text/latex": [
       "$\\displaystyle \\left[\\begin{matrix}\\frac{d}{d t} \\operatorname{t_{2}}{\\left(t \\right)}\\\\\\sin{\\left(\\operatorname{t_{2}}{\\left(t \\right)} \\right)} \\frac{d}{d t} \\operatorname{t_{1}}{\\left(t \\right)}\\\\\\cos{\\left(\\operatorname{t_{2}}{\\left(t \\right)} \\right)} \\frac{d}{d t} \\operatorname{t_{1}}{\\left(t \\right)}\\\\- \\sin{\\left(\\operatorname{t_{2}}{\\left(t \\right)} \\right)} \\frac{d}{d t} \\operatorname{t_{1}}{\\left(t \\right)}\\\\\\cos{\\left(\\operatorname{t_{2}}{\\left(t \\right)} \\right)} \\frac{d}{d t} \\operatorname{t_{1}}{\\left(t \\right)} + \\frac{d}{d t} \\operatorname{t_{2}}{\\left(t \\right)}\\\\- \\sin{\\left(\\operatorname{t_{2}}{\\left(t \\right)} \\right)} \\frac{d}{d t} \\operatorname{t_{1}}{\\left(t \\right)}\\end{matrix}\\right]$"
      ],
      "text/plain": [
       "Matrix([\n",
       "[                                  Derivative(t2(t), t)],\n",
       "[                       sin(t2(t))*Derivative(t1(t), t)],\n",
       "[                       cos(t2(t))*Derivative(t1(t), t)],\n",
       "[                      -sin(t2(t))*Derivative(t1(t), t)],\n",
       "[cos(t2(t))*Derivative(t1(t), t) + Derivative(t2(t), t)],\n",
       "[                      -sin(t2(t))*Derivative(t1(t), t)]])"
      ]
     },
     "execution_count": 17,
     "metadata": {},
     "output_type": "execute_result"
    }
   ],
   "source": [
    "Vb2.subs([(L1,1),(L2,1)])"
   ]
  },
  {
   "cell_type": "code",
   "execution_count": 18,
   "id": "1c280493",
   "metadata": {},
   "outputs": [
    {
     "data": {
      "text/latex": [
       "$\\displaystyle \\left[\\begin{matrix}0 & 0 & \\frac{d}{d t} \\operatorname{t_{1}}{\\left(t \\right)} & 0 & \\frac{d}{d t} \\operatorname{t_{1}}{\\left(t \\right)} & 0\\end{matrix}\\right]$"
      ],
      "text/plain": [
       "Matrix([[0, 0, Derivative(t1(t), t), 0, Derivative(t1(t), t), 0]])"
      ]
     },
     "execution_count": 18,
     "metadata": {},
     "output_type": "execute_result"
    }
   ],
   "source": [
    "Vb1.subs([(L1,1),(L2,1)])"
   ]
  },
  {
   "cell_type": "code",
   "execution_count": 19,
   "id": "6ec9f436",
   "metadata": {},
   "outputs": [],
   "source": [
    "I1 = Matrix([[0, 0, 0], [0, 4, 0], [0, 0, 4]])\n",
    "I2 = Matrix([[4, 0, 0], [0, 4, 0], [0, 0, 0]])"
   ]
  },
  {
   "cell_type": "code",
   "execution_count": 20,
   "id": "2b3057c9",
   "metadata": {},
   "outputs": [],
   "source": [
    "Z=I1*0"
   ]
  },
  {
   "cell_type": "code",
   "execution_count": 21,
   "id": "5e9cc9ce",
   "metadata": {},
   "outputs": [
    {
     "data": {
      "text/latex": [
       "$\\displaystyle \\left[\\begin{matrix}0 & 0 & 0\\\\0 & 0 & 0\\\\0 & 0 & 0\\end{matrix}\\right]$"
      ],
      "text/plain": [
       "Matrix([\n",
       "[0, 0, 0],\n",
       "[0, 0, 0],\n",
       "[0, 0, 0]])"
      ]
     },
     "execution_count": 21,
     "metadata": {},
     "output_type": "execute_result"
    }
   ],
   "source": [
    "Z"
   ]
  },
  {
   "cell_type": "code",
   "execution_count": 50,
   "id": "388cb13d",
   "metadata": {},
   "outputs": [],
   "source": [
    "m1 = Symbol('m1')\n",
    "m2 = Symbol('m2')\n",
    "g = Symbol('g')"
   ]
  },
  {
   "cell_type": "code",
   "execution_count": 23,
   "id": "9d8e6c8b",
   "metadata": {},
   "outputs": [
    {
     "data": {
      "text/latex": [
       "$\\displaystyle \\left[\\begin{matrix}m_{1} & 0 & 0\\\\0 & m_{1} & 0\\\\0 & 0 & m_{1}\\end{matrix}\\right]$"
      ],
      "text/plain": [
       "Matrix([\n",
       "[m1,  0,  0],\n",
       "[ 0, m1,  0],\n",
       "[ 0,  0, m1]])"
      ]
     },
     "execution_count": 23,
     "metadata": {},
     "output_type": "execute_result"
    }
   ],
   "source": [
    "m1*eye(3)"
   ]
  },
  {
   "cell_type": "code",
   "execution_count": 24,
   "id": "19005274",
   "metadata": {},
   "outputs": [],
   "source": [
    "Gb1 = Matrix.hstack(Matrix.vstack(I1,Z), Matrix.vstack(Z,m1*eye(3)))"
   ]
  },
  {
   "cell_type": "code",
   "execution_count": 25,
   "id": "5b24fe1c",
   "metadata": {},
   "outputs": [
    {
     "data": {
      "text/latex": [
       "$\\displaystyle \\left[\\begin{matrix}0 & 0 & 0 & 0 & 0 & 0\\\\0 & 4 & 0 & 0 & 0 & 0\\\\0 & 0 & 4 & 0 & 0 & 0\\\\0 & 0 & 0 & m_{1} & 0 & 0\\\\0 & 0 & 0 & 0 & m_{1} & 0\\\\0 & 0 & 0 & 0 & 0 & m_{1}\\end{matrix}\\right]$"
      ],
      "text/plain": [
       "Matrix([\n",
       "[0, 0, 0,  0,  0,  0],\n",
       "[0, 4, 0,  0,  0,  0],\n",
       "[0, 0, 4,  0,  0,  0],\n",
       "[0, 0, 0, m1,  0,  0],\n",
       "[0, 0, 0,  0, m1,  0],\n",
       "[0, 0, 0,  0,  0, m1]])"
      ]
     },
     "execution_count": 25,
     "metadata": {},
     "output_type": "execute_result"
    }
   ],
   "source": [
    "Gb1"
   ]
  },
  {
   "cell_type": "code",
   "execution_count": 26,
   "id": "f51eaeec",
   "metadata": {},
   "outputs": [],
   "source": [
    "Gb2 = Matrix.hstack(Matrix.vstack(I2,Z), Matrix.vstack(Z,m2*eye(3)))"
   ]
  },
  {
   "cell_type": "code",
   "execution_count": 27,
   "id": "2ffe4a48",
   "metadata": {},
   "outputs": [
    {
     "data": {
      "text/latex": [
       "$\\displaystyle \\left[\\begin{matrix}4 & 0 & 0 & 0 & 0 & 0\\\\0 & 4 & 0 & 0 & 0 & 0\\\\0 & 0 & 0 & 0 & 0 & 0\\\\0 & 0 & 0 & m_{2} & 0 & 0\\\\0 & 0 & 0 & 0 & m_{2} & 0\\\\0 & 0 & 0 & 0 & 0 & m_{2}\\end{matrix}\\right]$"
      ],
      "text/plain": [
       "Matrix([\n",
       "[4, 0, 0,  0,  0,  0],\n",
       "[0, 4, 0,  0,  0,  0],\n",
       "[0, 0, 0,  0,  0,  0],\n",
       "[0, 0, 0, m2,  0,  0],\n",
       "[0, 0, 0,  0, m2,  0],\n",
       "[0, 0, 0,  0,  0, m2]])"
      ]
     },
     "execution_count": 27,
     "metadata": {},
     "output_type": "execute_result"
    }
   ],
   "source": [
    "Gb2"
   ]
  },
  {
   "cell_type": "code",
   "execution_count": 45,
   "id": "000eacd3",
   "metadata": {},
   "outputs": [],
   "source": [
    "Ke = (1./2.)*((Vb1*Gb1*Vb1.T)+(Vb2.T*Gb2*Vb2))"
   ]
  },
  {
   "cell_type": "code",
   "execution_count": 46,
   "id": "74b58205",
   "metadata": {},
   "outputs": [
    {
     "data": {
      "text/plain": [
       "(1, 1)"
      ]
     },
     "execution_count": 46,
     "metadata": {},
     "output_type": "execute_result"
    }
   ],
   "source": [
    "Ke.shape"
   ]
  },
  {
   "cell_type": "code",
   "execution_count": 49,
   "id": "a987d91b",
   "metadata": {},
   "outputs": [],
   "source": [
    "K = Ke.subs([(L1,1),(L2,1),(m1,2),(m2,2)])"
   ]
  },
  {
   "cell_type": "code",
   "execution_count": 56,
   "id": "e0e53da0",
   "metadata": {},
   "outputs": [],
   "source": [
    "Pe = Matrix([m2*g*L2*(1-cos(t2))])"
   ]
  },
  {
   "cell_type": "code",
   "execution_count": 57,
   "id": "f2cf3eb5",
   "metadata": {},
   "outputs": [],
   "source": [
    "P = Pe.subs([(L1,1),(L2,1),(m1,2),(m2,2),(g,10)])"
   ]
  },
  {
   "cell_type": "code",
   "execution_count": 58,
   "id": "f506696a",
   "metadata": {},
   "outputs": [
    {
     "data": {
      "text/latex": [
       "$\\displaystyle \\left[\\begin{matrix}20 - 20 \\cos{\\left(\\operatorname{t_{2}}{\\left(t \\right)} \\right)}\\end{matrix}\\right]$"
      ],
      "text/plain": [
       "Matrix([[20 - 20*cos(t2(t))]])"
      ]
     },
     "execution_count": 58,
     "metadata": {},
     "output_type": "execute_result"
    }
   ],
   "source": [
    "P"
   ]
  },
  {
   "cell_type": "code",
   "execution_count": 59,
   "id": "977dbea6",
   "metadata": {},
   "outputs": [],
   "source": [
    "L = K-P"
   ]
  },
  {
   "cell_type": "code",
   "execution_count": 60,
   "id": "2d766f95",
   "metadata": {},
   "outputs": [
    {
     "data": {
      "text/latex": [
       "$\\displaystyle \\left[\\begin{matrix}1.0 \\left(\\cos{\\left(\\operatorname{t_{2}}{\\left(t \\right)} \\right)} \\frac{d}{d t} \\operatorname{t_{1}}{\\left(t \\right)} + \\frac{d}{d t} \\operatorname{t_{2}}{\\left(t \\right)}\\right)^{2} + 4.0 \\sin^{2}{\\left(\\operatorname{t_{2}}{\\left(t \\right)} \\right)} \\left(\\frac{d}{d t} \\operatorname{t_{1}}{\\left(t \\right)}\\right)^{2} + 20 \\cos{\\left(\\operatorname{t_{2}}{\\left(t \\right)} \\right)} + 3.0 \\left(\\frac{d}{d t} \\operatorname{t_{1}}{\\left(t \\right)}\\right)^{2} + 2.0 \\left(\\frac{d}{d t} \\operatorname{t_{2}}{\\left(t \\right)}\\right)^{2} - 20\\end{matrix}\\right]$"
      ],
      "text/plain": [
       "Matrix([[1.0*(cos(t2(t))*Derivative(t1(t), t) + Derivative(t2(t), t))**2 + 4.0*sin(t2(t))**2*Derivative(t1(t), t)**2 + 20*cos(t2(t)) + 3.0*Derivative(t1(t), t)**2 + 2.0*Derivative(t2(t), t)**2 - 20]])"
      ]
     },
     "execution_count": 60,
     "metadata": {},
     "output_type": "execute_result"
    }
   ],
   "source": [
    "L"
   ]
  },
  {
   "cell_type": "code",
   "execution_count": 62,
   "id": "7ab29ab1",
   "metadata": {},
   "outputs": [],
   "source": [
    "from sympy.tensor.array import derive_by_array"
   ]
  },
  {
   "cell_type": "code",
   "execution_count": 72,
   "id": "dbddb6dd",
   "metadata": {},
   "outputs": [],
   "source": [
    "taup = derive_by_array(L, (Derivative(t1,t,1), Derivative(t2,t,1)))"
   ]
  },
  {
   "cell_type": "code",
   "execution_count": 75,
   "id": "f72fe027",
   "metadata": {},
   "outputs": [],
   "source": [
    "tau_t = derive_by_array(taup,t)"
   ]
  },
  {
   "cell_type": "code",
   "execution_count": 76,
   "id": "ba1c5679",
   "metadata": {},
   "outputs": [
    {
     "data": {
      "text/latex": [
       "$\\displaystyle \\left[\\begin{matrix}\\left[\\left[\\begin{matrix}- \\left(2.0 \\cos{\\left(\\operatorname{t_{2}}{\\left(t \\right)} \\right)} \\frac{d}{d t} \\operatorname{t_{1}}{\\left(t \\right)} + 2.0 \\frac{d}{d t} \\operatorname{t_{2}}{\\left(t \\right)}\\right) \\sin{\\left(\\operatorname{t_{2}}{\\left(t \\right)} \\right)} \\frac{d}{d t} \\operatorname{t_{2}}{\\left(t \\right)} + \\left(- 2.0 \\sin{\\left(\\operatorname{t_{2}}{\\left(t \\right)} \\right)} \\frac{d}{d t} \\operatorname{t_{1}}{\\left(t \\right)} \\frac{d}{d t} \\operatorname{t_{2}}{\\left(t \\right)} + 2.0 \\cos{\\left(\\operatorname{t_{2}}{\\left(t \\right)} \\right)} \\frac{d^{2}}{d t^{2}} \\operatorname{t_{1}}{\\left(t \\right)} + 2.0 \\frac{d^{2}}{d t^{2}} \\operatorname{t_{2}}{\\left(t \\right)}\\right) \\cos{\\left(\\operatorname{t_{2}}{\\left(t \\right)} \\right)} + 8.0 \\sin^{2}{\\left(\\operatorname{t_{2}}{\\left(t \\right)} \\right)} \\frac{d^{2}}{d t^{2}} \\operatorname{t_{1}}{\\left(t \\right)} + 16.0 \\sin{\\left(\\operatorname{t_{2}}{\\left(t \\right)} \\right)} \\cos{\\left(\\operatorname{t_{2}}{\\left(t \\right)} \\right)} \\frac{d}{d t} \\operatorname{t_{1}}{\\left(t \\right)} \\frac{d}{d t} \\operatorname{t_{2}}{\\left(t \\right)} + 6.0 \\frac{d^{2}}{d t^{2}} \\operatorname{t_{1}}{\\left(t \\right)}\\end{matrix}\\right]\\right] & \\left[\\left[\\begin{matrix}- 2.0 \\sin{\\left(\\operatorname{t_{2}}{\\left(t \\right)} \\right)} \\frac{d}{d t} \\operatorname{t_{1}}{\\left(t \\right)} \\frac{d}{d t} \\operatorname{t_{2}}{\\left(t \\right)} + 2.0 \\cos{\\left(\\operatorname{t_{2}}{\\left(t \\right)} \\right)} \\frac{d^{2}}{d t^{2}} \\operatorname{t_{1}}{\\left(t \\right)} + 6.0 \\frac{d^{2}}{d t^{2}} \\operatorname{t_{2}}{\\left(t \\right)}\\end{matrix}\\right]\\right]\\end{matrix}\\right]$"
      ],
      "text/plain": [
       "[[[-(2.0*cos(t2(t))*Derivative(t1(t), t) + 2.0*Derivative(t2(t), t))*sin(t2(t))*Derivative(t2(t), t) + (-2.0*sin(t2(t))*Derivative(t1(t), t)*Derivative(t2(t), t) + 2.0*cos(t2(t))*Derivative(t1(t), (t, 2)) + 2.0*Derivative(t2(t), (t, 2)))*cos(t2(t)) + 8.0*sin(t2(t))**2*Derivative(t1(t), (t, 2)) + 16.0*sin(t2(t))*cos(t2(t))*Derivative(t1(t), t)*Derivative(t2(t), t) + 6.0*Derivative(t1(t), (t, 2))]], [[-2.0*sin(t2(t))*Derivative(t1(t), t)*Derivative(t2(t), t) + 2.0*cos(t2(t))*Derivative(t1(t), (t, 2)) + 6.0*Derivative(t2(t), (t, 2))]]]"
      ]
     },
     "execution_count": 76,
     "metadata": {},
     "output_type": "execute_result"
    }
   ],
   "source": [
    "tau_t"
   ]
  },
  {
   "cell_type": "code",
   "execution_count": 83,
   "id": "63b8301a",
   "metadata": {},
   "outputs": [
    {
     "data": {
      "text/latex": [
       "$\\displaystyle \\left[\\begin{matrix}- 2.0 \\left(\\cos{\\left(\\operatorname{t_{2}}{\\left(t \\right)} \\right)} \\frac{d}{d t} \\operatorname{t_{1}}{\\left(t \\right)} + \\frac{d}{d t} \\operatorname{t_{2}}{\\left(t \\right)}\\right) \\sin{\\left(\\operatorname{t_{2}}{\\left(t \\right)} \\right)} \\frac{d}{d t} \\operatorname{t_{1}}{\\left(t \\right)} + 8.0 \\sin{\\left(\\operatorname{t_{2}}{\\left(t \\right)} \\right)} \\cos{\\left(\\operatorname{t_{2}}{\\left(t \\right)} \\right)} \\left(\\frac{d}{d t} \\operatorname{t_{1}}{\\left(t \\right)}\\right)^{2} - 20 \\sin{\\left(\\operatorname{t_{2}}{\\left(t \\right)} \\right)}\\end{matrix}\\right]$"
      ],
      "text/plain": [
       "Matrix([[-2.0*(cos(t2(t))*Derivative(t1(t), t) + Derivative(t2(t), t))*sin(t2(t))*Derivative(t1(t), t) + 8.0*sin(t2(t))*cos(t2(t))*Derivative(t1(t), t)**2 - 20*sin(t2(t))]])"
      ]
     },
     "execution_count": 83,
     "metadata": {},
     "output_type": "execute_result"
    }
   ],
   "source": [
    "diff(L,t2)"
   ]
  },
  {
   "cell_type": "code",
   "execution_count": 84,
   "id": "c781f05f",
   "metadata": {},
   "outputs": [
    {
     "data": {
      "text/latex": [
       "$\\displaystyle \\left[\\begin{matrix}2.0 \\left(\\cos{\\left(\\operatorname{t_{2}}{\\left(t \\right)} \\right)} \\frac{d}{d t} \\operatorname{t_{1}}{\\left(t \\right)} + \\frac{d}{d t} \\operatorname{t_{2}}{\\left(t \\right)}\\right) \\cos{\\left(\\operatorname{t_{2}}{\\left(t \\right)} \\right)} + 8.0 \\sin^{2}{\\left(\\operatorname{t_{2}}{\\left(t \\right)} \\right)} \\frac{d}{d t} \\operatorname{t_{1}}{\\left(t \\right)} + 6.0 \\frac{d}{d t} \\operatorname{t_{1}}{\\left(t \\right)}\\end{matrix}\\right]$"
      ],
      "text/plain": [
       "Matrix([[2.0*(cos(t2(t))*Derivative(t1(t), t) + Derivative(t2(t), t))*cos(t2(t)) + 8.0*sin(t2(t))**2*Derivative(t1(t), t) + 6.0*Derivative(t1(t), t)]])"
      ]
     },
     "execution_count": 84,
     "metadata": {},
     "output_type": "execute_result"
    }
   ],
   "source": [
    "diff(L,Derivative(t1,t,1))"
   ]
  },
  {
   "cell_type": "code",
   "execution_count": 85,
   "id": "0329020e",
   "metadata": {},
   "outputs": [
    {
     "data": {
      "text/latex": [
       "$\\displaystyle \\left[\\begin{matrix}2.0 \\cos{\\left(\\operatorname{t_{2}}{\\left(t \\right)} \\right)} \\frac{d}{d t} \\operatorname{t_{1}}{\\left(t \\right)} + 6.0 \\frac{d}{d t} \\operatorname{t_{2}}{\\left(t \\right)}\\end{matrix}\\right]$"
      ],
      "text/plain": [
       "Matrix([[2.0*cos(t2(t))*Derivative(t1(t), t) + 6.0*Derivative(t2(t), t)]])"
      ]
     },
     "execution_count": 85,
     "metadata": {},
     "output_type": "execute_result"
    }
   ],
   "source": [
    "diff(L,Derivative(t2,t,1))"
   ]
  },
  {
   "cell_type": "code",
   "execution_count": 94,
   "id": "3521bcda",
   "metadata": {},
   "outputs": [],
   "source": [
    "t2 = -1*sympy.expand(L.jacobian([t1,t2]))"
   ]
  },
  {
   "cell_type": "code",
   "execution_count": 98,
   "id": "bc6479b5",
   "metadata": {},
   "outputs": [
    {
     "ename": "ValueError",
     "evalue": "mismatched dimensions",
     "output_type": "error",
     "traceback": [
      "\u001b[0;31m---------------------------------------------------------------------------\u001b[0m",
      "\u001b[0;31mValueError\u001b[0m                                Traceback (most recent call last)",
      "Input \u001b[0;32mIn [98]\u001b[0m, in \u001b[0;36m<module>\u001b[0;34m\u001b[0m\n\u001b[0;32m----> 1\u001b[0m t1 \u001b[38;5;241m=\u001b[39m sympy\u001b[38;5;241m.\u001b[39mexpand(\u001b[43mL\u001b[49m\u001b[38;5;241;43m.\u001b[39;49m\u001b[43mjacobian\u001b[49m\u001b[43m(\u001b[49m\u001b[43m[\u001b[49m\u001b[43mdiff\u001b[49m\u001b[43m(\u001b[49m\u001b[43mt1\u001b[49m\u001b[43m,\u001b[49m\u001b[43mt\u001b[49m\u001b[43m)\u001b[49m\u001b[43m,\u001b[49m\u001b[43mdiff\u001b[49m\u001b[43m(\u001b[49m\u001b[43mt2\u001b[49m\u001b[43m,\u001b[49m\u001b[43mt\u001b[49m\u001b[43m)\u001b[49m\u001b[43m]\u001b[49m\u001b[43m)\u001b[49m)\n",
      "File \u001b[0;32m~/miniconda3/lib/python3.9/site-packages/sympy/matrices/matrices.py:543\u001b[0m, in \u001b[0;36mMatrixCalculus.jacobian\u001b[0;34m(self, X)\u001b[0m\n\u001b[1;32m    507\u001b[0m \u001b[38;5;124;03m\"\"\"Calculates the Jacobian matrix (derivative of a vector-valued function).\u001b[39;00m\n\u001b[1;32m    508\u001b[0m \n\u001b[1;32m    509\u001b[0m \u001b[38;5;124;03mParameters\u001b[39;00m\n\u001b[0;32m   (...)\u001b[0m\n\u001b[1;32m    540\u001b[0m \u001b[38;5;124;03mwronskian\u001b[39;00m\n\u001b[1;32m    541\u001b[0m \u001b[38;5;124;03m\"\"\"\u001b[39;00m\n\u001b[1;32m    542\u001b[0m \u001b[38;5;28;01mif\u001b[39;00m \u001b[38;5;129;01mnot\u001b[39;00m \u001b[38;5;28misinstance\u001b[39m(X, MatrixBase):\n\u001b[0;32m--> 543\u001b[0m     X \u001b[38;5;241m=\u001b[39m \u001b[38;5;28;43mself\u001b[39;49m\u001b[38;5;241;43m.\u001b[39;49m\u001b[43m_new\u001b[49m\u001b[43m(\u001b[49m\u001b[43mX\u001b[49m\u001b[43m)\u001b[49m\n\u001b[1;32m    544\u001b[0m \u001b[38;5;66;03m# Both X and ``self`` can be a row or a column matrix, so we need to make\u001b[39;00m\n\u001b[1;32m    545\u001b[0m \u001b[38;5;66;03m# sure all valid combinations work, but everything else fails:\u001b[39;00m\n\u001b[1;32m    546\u001b[0m \u001b[38;5;28;01mif\u001b[39;00m \u001b[38;5;28mself\u001b[39m\u001b[38;5;241m.\u001b[39mshape[\u001b[38;5;241m0\u001b[39m] \u001b[38;5;241m==\u001b[39m \u001b[38;5;241m1\u001b[39m:\n",
      "File \u001b[0;32m~/miniconda3/lib/python3.9/site-packages/sympy/matrices/repmatrix.py:340\u001b[0m, in \u001b[0;36mMutableRepMatrix._new\u001b[0;34m(cls, copy, *args, **kwargs)\u001b[0m\n\u001b[1;32m    338\u001b[0m     rows, cols, flat_list \u001b[38;5;241m=\u001b[39m args\n\u001b[1;32m    339\u001b[0m \u001b[38;5;28;01melse\u001b[39;00m:\n\u001b[0;32m--> 340\u001b[0m     rows, cols, flat_list \u001b[38;5;241m=\u001b[39m \u001b[38;5;28;43mcls\u001b[39;49m\u001b[38;5;241;43m.\u001b[39;49m\u001b[43m_handle_creation_inputs\u001b[49m\u001b[43m(\u001b[49m\u001b[38;5;241;43m*\u001b[39;49m\u001b[43margs\u001b[49m\u001b[43m,\u001b[49m\u001b[43m \u001b[49m\u001b[38;5;241;43m*\u001b[39;49m\u001b[38;5;241;43m*\u001b[39;49m\u001b[43mkwargs\u001b[49m\u001b[43m)\u001b[49m\n\u001b[1;32m    341\u001b[0m     flat_list \u001b[38;5;241m=\u001b[39m \u001b[38;5;28mlist\u001b[39m(flat_list) \u001b[38;5;66;03m# create a shallow copy\u001b[39;00m\n\u001b[1;32m    343\u001b[0m rep \u001b[38;5;241m=\u001b[39m \u001b[38;5;28mcls\u001b[39m\u001b[38;5;241m.\u001b[39m_flat_list_to_DomainMatrix(rows, cols, flat_list)\n",
      "File \u001b[0;32m~/miniconda3/lib/python3.9/site-packages/sympy/matrices/matrices.py:1070\u001b[0m, in \u001b[0;36mMatrixBase._handle_creation_inputs\u001b[0;34m(cls, *args, **kwargs)\u001b[0m\n\u001b[1;32m   1068\u001b[0m         flat_list\u001b[38;5;241m.\u001b[39mappend(i)\n\u001b[1;32m   1069\u001b[0m     \u001b[38;5;28;01mif\u001b[39;00m \u001b[38;5;28mlen\u001b[39m(ncol) \u001b[38;5;241m>\u001b[39m \u001b[38;5;241m1\u001b[39m:\n\u001b[0;32m-> 1070\u001b[0m         \u001b[38;5;28;01mraise\u001b[39;00m \u001b[38;5;167;01mValueError\u001b[39;00m(\u001b[38;5;124m'\u001b[39m\u001b[38;5;124mmismatched dimensions\u001b[39m\u001b[38;5;124m'\u001b[39m)\n\u001b[1;32m   1071\u001b[0m cols \u001b[38;5;241m=\u001b[39m ncol\u001b[38;5;241m.\u001b[39mpop()\n\u001b[1;32m   1072\u001b[0m rows \u001b[38;5;241m=\u001b[39m \u001b[38;5;28mlen\u001b[39m(flat_list)\u001b[38;5;241m/\u001b[39m\u001b[38;5;241m/\u001b[39mcols\n",
      "\u001b[0;31mValueError\u001b[0m: mismatched dimensions"
     ]
    }
   ],
   "source": [
    "t1 = sympy.expand(L.jacobian([diff(t1,t),diff(t2,t)]))"
   ]
  },
  {
   "cell_type": "code",
   "execution_count": null,
   "id": "b6ee2895",
   "metadata": {},
   "outputs": [],
   "source": []
  }
 ],
 "metadata": {
  "kernelspec": {
   "display_name": "Python 3 (ipykernel)",
   "language": "python",
   "name": "python3"
  },
  "language_info": {
   "codemirror_mode": {
    "name": "ipython",
    "version": 3
   },
   "file_extension": ".py",
   "mimetype": "text/x-python",
   "name": "python",
   "nbconvert_exporter": "python",
   "pygments_lexer": "ipython3",
   "version": "3.9.5"
  }
 },
 "nbformat": 4,
 "nbformat_minor": 5
}
